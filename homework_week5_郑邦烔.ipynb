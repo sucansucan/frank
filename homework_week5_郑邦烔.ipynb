{
 "cells": [
  {
   "cell_type": "markdown",
   "metadata": {},
   "source": [
    "# 完成以下问答和编程练习"
   ]
  },
  {
   "cell_type": "markdown",
   "metadata": {},
   "source": [
    "**理论部分**\n",
    "1. 验证多重继承的属性规则，请选择\n",
    "- 就近原则\n",
    "- 随机原则\n",
    "- 类定义的先后原则\n",
    "\n",
    "\n",
    "答：应该是就近原则，即A4的父类里，取最近的拥有name和num的类的值"
   ]
  },
  {
   "cell_type": "code",
   "execution_count": 13,
   "metadata": {},
   "outputs": [
    {
     "name": "stdout",
     "output_type": "stream",
     "text": [
      "A0\n",
      "1\n"
     ]
    }
   ],
   "source": [
    "class A0:\n",
    "    name = 'A0'\n",
    "    \n",
    "class A2(A0):\n",
    "    num = 2\n",
    "    \n",
    "class A1:\n",
    "    num = 1\n",
    "    \n",
    "class A3:\n",
    "    name = 'A3'\n",
    "    \n",
    "class A4(A1,A2,A3):\n",
    "    pass\n",
    " \n",
    "ins = A4()\n",
    "print(ins.name) # \n",
    "print(ins.num) # "
   ]
  },
  {
   "cell_type": "markdown",
   "metadata": {},
   "source": [
    "**编程实践部分**"
   ]
  },
  {
   "cell_type": "markdown",
   "metadata": {},
   "source": [
    "1. 完成ATM的类实现  \n",
    "将第二次课程的ATM机器改写成类实现"
   ]
  },
  {
   "cell_type": "code",
   "execution_count": 2,
   "metadata": {},
   "outputs": [
    {
     "name": "stdout",
     "output_type": "stream",
     "text": [
      "\n",
      "1.查询余额\n",
      "2.存款\n",
      "3.取款\n",
      "4.退出\n",
      "            \n",
      "请选择你想要的业务，输入相应的序号:1\n",
      "\n",
      "您账户的当前余额为: 1000\n",
      "\n",
      "1.查询余额\n",
      "2.存款\n",
      "3.取款\n",
      "4.退出\n",
      "            \n",
      "请选择你想要的业务，输入相应的序号:2\n",
      "请输入取款的金额：3333\n",
      "\n",
      "您账户的当前余额为: 4333\n",
      "\n",
      "1.查询余额\n",
      "2.存款\n",
      "3.取款\n",
      "4.退出\n",
      "            \n",
      "请选择你想要的业务，输入相应的序号:1\n",
      "\n",
      "您账户的当前余额为: 4333\n",
      "\n",
      "1.查询余额\n",
      "2.存款\n",
      "3.取款\n",
      "4.退出\n",
      "            \n",
      "请选择你想要的业务，输入相应的序号:3222\n",
      "输入错误，请重新输入\n",
      "\n",
      "1.查询余额\n",
      "2.存款\n",
      "3.取款\n",
      "4.退出\n",
      "            \n",
      "请选择你想要的业务，输入相应的序号:3\n",
      "请输入取款的金额：3222\n",
      "\n",
      "您账户的当前余额为: 1111\n",
      "\n",
      "1.查询余额\n",
      "2.存款\n",
      "3.取款\n",
      "4.退出\n",
      "            \n",
      "请选择你想要的业务，输入相应的序号:1\n",
      "\n",
      "您账户的当前余额为: 1111\n",
      "\n",
      "1.查询余额\n",
      "2.存款\n",
      "3.取款\n",
      "4.退出\n",
      "            \n",
      "请选择你想要的业务，输入相应的序号:4\n",
      "感谢您的使用，再见。\n"
     ]
    }
   ],
   "source": [
    "class Atmsystem:\n",
    "    deposit_init=1000\n",
    "    def main_menu(self):\n",
    "        while True:\n",
    "            print(\"\"\"\n",
    "1.查询余额\n",
    "2.存款\n",
    "3.取款\n",
    "4.退出\n",
    "            \"\"\")\n",
    "            choice=int(input(\"请选择你想要的业务，输入相应的序号:\"))\n",
    "            if choice == 1:\n",
    "                self.inquire()\n",
    "            elif choice == 2:\n",
    "                self.deposit()\n",
    "            elif choice==3:\n",
    "                self.withdrawal()\n",
    "            elif choice==4:\n",
    "                print(\"感谢您的使用，再见。\")\n",
    "                break\n",
    "            else:\n",
    "                print(\"输入错误，请重新输入\")\n",
    "    def inquire(self):\n",
    "        print(\"\\n您账户的当前余额为:\",self.deposit_init)\n",
    "    def deposit(self):\n",
    "        deposit_plus=int(input(\"请输入取款的金额：\"))\n",
    "        self.deposit_init  += deposit_plus\n",
    "        print(\"\\n您账户的当前余额为:\",self.deposit_init)\n",
    "    def withdrawal(self):\n",
    "        deposit_minus=int(input(\"请输入取款的金额：\"))\n",
    "        if deposit_minus > self.deposit_init:\n",
    "            print(\"余额不足\")\n",
    "        else:\n",
    "            self.deposit_init  -= deposit_minus\n",
    "            print(\"\\n您账户的当前余额为:\",self.deposit_init)\n",
    "\n",
    "test=Atmsystem()\n",
    "test.main_menu()\n",
    "    "
   ]
  },
  {
   "cell_type": "markdown",
   "metadata": {},
   "source": [
    "2. 练习会先提供一个李靖类，用以记录人物角色的战斗力。需要你创建一个子类哪吒类，提供属性和参数的修改。  \n",
    "要求： 在哪吒的初始化方法中，默认添加`['混天绫', '乾坤圈']` 两个装备,以及初始化战斗力为50."
   ]
  },
  {
   "cell_type": "code",
   "execution_count": 2,
   "metadata": {},
   "outputs": [
    {
     "name": "stdout",
     "output_type": "stream",
     "text": [
      "10\n",
      "60\n"
     ]
    }
   ],
   "source": [
    "# 代码不用修改，读懂后运行即可。\n",
    "class Lijing: # 李靖\n",
    "    # 初始化函数，为每个实例创建4个参数（其中后3个参数有默认值）\n",
    "    def __init__(self, name, weapons=[], power=10): \n",
    "        self.name = name\n",
    "        self.weapons = weapons\n",
    "        self.power = power\n",
    "\n",
    "    def count_fight(self, weapon, weapon_power):\n",
    "        self.weapons.append(weapon)\n",
    "        self.power += weapon_power  # 总战力=武器战力之和\n",
    "\n",
    "lijing = Lijing('李靖')\n",
    "print(lijing.power)\n",
    "lijing.count_fight('七宝玲珑塔', 50)  # 七宝玲珑塔 战力 50\n",
    "print(lijing.power)"
   ]
  },
  {
   "cell_type": "code",
   "execution_count": 11,
   "metadata": {},
   "outputs": [
    {
     "name": "stdout",
     "output_type": "stream",
     "text": [
      "[]\n",
      "['混天绫', '乾坤圈'] 哪吒 50\n",
      "['七宝玲珑塔']\n",
      "60\n",
      "['混天绫', '乾坤圈', '火尖枪']\n",
      "90\n"
     ]
    }
   ],
   "source": [
    "class Lijing: # 李靖\n",
    "    # 初始化函数，为每个实例创建4个参数（其中后3个参数有默认值）\n",
    "    def __init__(self, name, weapons=[], power=10): \n",
    "        self.name = name\n",
    "        self.weapons = weapons\n",
    "        self.power = power\n",
    "\n",
    "    def count_fight(self, weapon, weapon_power):\n",
    "        self.weapons.append(weapon)\n",
    "        self.power += weapon_power  # 总战力=武器战力之和\n",
    "        \n",
    "# your code here        \n",
    "# 请你完成子类的定制（包括初始化方法和count_fight函数）\n",
    "class Nezha(Lijing): # 哪吒\n",
    "    def __init__(self,name,weapons=['混天绫','乾坤圈'],power=50):\n",
    "        self.name=name\n",
    "        self.weapons=weapons\n",
    "        self.power=power\n",
    "                \n",
    "    def count_fight(self,weapon,weapon_power):\n",
    "        self.weapons.append(weapon)\n",
    "        self.power += weapon_power\n",
    "    \n",
    "# 通过两个实例，完成子类和父类的对比（可自行验证）\n",
    "lijing = Lijing('李靖')\n",
    "nezha = Nezha('哪吒')\n",
    "print(lijing.weapons)\n",
    "print(nezha.weapons,nezha.name,nezha.power)\n",
    "lijing.count_fight('七宝玲珑塔', 50)  # 七宝玲珑塔 战力 50\n",
    "print(lijing.weapons)\n",
    "print(lijing.power)\n",
    "nezha.count_fight('火尖枪', 40)  #\n",
    "print(nezha.weapons)\n",
    "print(nezha.power)"
   ]
  }
 ],
 "metadata": {
  "kernelspec": {
   "display_name": "Python 3",
   "language": "python",
   "name": "python3"
  },
  "language_info": {
   "codemirror_mode": {
    "name": "ipython",
    "version": 3
   },
   "file_extension": ".py",
   "mimetype": "text/x-python",
   "name": "python",
   "nbconvert_exporter": "python",
   "pygments_lexer": "ipython3",
   "version": "3.7.0"
  }
 },
 "nbformat": 4,
 "nbformat_minor": 4
}
