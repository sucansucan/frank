{
 "cells": [
  {
   "cell_type": "code",
   "execution_count": 80,
   "metadata": {
    "scrolled": true
   },
   "outputs": [
    {
     "name": "stdout",
     "output_type": "stream",
     "text": [
      "1560252997.752809\n",
      "76922000000.0\n",
      "0.24428208876549706\n",
      "950     LEN\n",
      "1545    TRV\n",
      "Name: Ticker Symbol, dtype: object\n"
     ]
    }
   ],
   "source": [
    "#Q1-1\n",
    "import pandas as pd\n",
    "f=pd.read_csv(\"./fundamentals.csv\")\n",
    "pd.to_datetime(f[\"Period Ending\"])\n",
    "f1=f[(f[\"Period Ending\"]> \"2014-12-31\") & (f[\"Period Ending\"]< \"2016-01-01\")]\n",
    "print(f1['Net Income'].mean())\n",
    "print(pd.to_numeric(f1['Net Income'].max())-pd.to_numeric(f1['Net Income'].min()))\n",
    "\n",
    "\n",
    "#Q1-2\n",
    "f2=f[(f[\"Period Ending\"]> \"2015-12-31\") & (f[\"Period Ending\"]< \"2017-01-01\")]\n",
    "f2.insert(0,column=\"fata index\",value=pd.Series(pd.to_numeric(f2['Fixed Assets'])/pd.to_numeric(f2['Total Assets'])))\n",
    "print(f2['fata index'].mean())\n",
    "print(f2[f2['fata index']==f2['fata index'].min()]['Ticker Symbol'])"
   ]
  },
  {
   "cell_type": "code",
   "execution_count": 79,
   "metadata": {},
   "outputs": [
    {
     "name": "stdout",
     "output_type": "stream",
     "text": [
      "1       ABT\n",
      "48     ARNC\n",
      "51        T\n",
      "56      AVB\n",
      "152     DUK\n",
      "207     GIS\n",
      "230     HON\n",
      "233     HPQ\n",
      "255     JPM\n",
      "296     MCD\n",
      "328     NEE\n",
      "399     SLB\n",
      "404     SHW\n",
      "433     CLX\n",
      "472      VZ\n",
      "Name: Ticker symbol, dtype: object\n",
      "                        location Ticker symbol\n",
      "5                        Georgia           AYI\n",
      "16                     Louisiana           ALB\n",
      "21                     Wisconsin           LNT\n",
      "33                    New Jersey           AWK\n",
      "56                   Virginia[3]           AVB\n",
      "66                      Nebraska         BRK.B\n",
      "90                      Missouri           CNC\n",
      "96                   Connecticut          CHTR\n",
      "108                 Rhode Island           CFG\n",
      "116                 Pennsylvania         CMCSA\n",
      "119                        Texas           CXO\n",
      "125                           NY          COTY\n",
      "127                     Virginia          CSRA\n",
      "163                      Ireland          ENDP\n",
      "165                    Tennessee          EVHC\n",
      "178                           UT           EXR\n",
      "187                      Arizona          FSLR\n",
      "190                       Oregon          FLIR\n",
      "195                     New York            FL\n",
      "197                   Washington           FTV\n",
      "198                     Illinois          FBHS\n",
      "208                     Michigan            GM\n",
      "228                Massachusetts          HOLX\n",
      "236                        Maine          IDXX\n",
      "250                     Arkansas          JBHT\n",
      "275                      Indiana           LLY\n",
      "282                  Netherlands           LYB\n",
      "302                         Ohio           MTD\n",
      "305                        Idaho            MU\n",
      "307                    Tennessee           MAA\n",
      "320                     Delaware          NAVI\n",
      "343                     Oklahoma           OKE\n",
      "350                           UK           PNR\n",
      "377               North Carolina          QRVO\n",
      "394                      Florida           RCL\n",
      "398               South Carolina           SCG\n",
      "399   Kingdom of the Netherlands           SLB\n",
      "405                      Bermuda           SIG\n",
      "412                     Texas[6]           SWN\n",
      "434                   California           COO\n",
      "436                    Minnesota           MOS\n",
      "447                  Switzerland           RIG\n",
      "453                     Colorado           UDR\n",
      "456                     Maryland           UAA\n",
      "492               United Kingdom          WLTW\n",
      "494                       Nevada          WYNN\n",
      "501                     Kentucky           YUM\n"
     ]
    }
   ],
   "source": [
    "#Q2-1\n",
    "import pandas as pd\n",
    "f=pd.read_csv(\"./securities.csv\")\n",
    "f3=f[f['Date first added'].notna()]\n",
    "pd.to_datetime(f3['Date first added'])\n",
    "print(f3[f3['Date first added']==f3.groupby('GICS Sector')['Date first added'].transform(min)]['Ticker symbol'])\n",
    "\n",
    "\n",
    "#Q2-2\n",
    "f3.insert(0,value=(f3['Address of Headquarters'].transform(lambda x: list(x.split(','))[-1])),column='location')\n",
    "print(f3[f3['Date first added']==f3.groupby('location')['Date first added'].transform(max)][['location','Ticker symbol']])"
   ]
  },
  {
   "cell_type": "markdown",
   "metadata": {},
   "source": [
    "Q3-1\n",
    "答：根据实际需要选择连接的方式，一般情况下都是内连接居多（交集），或者外连接（并集）。根据实际需要选择正确的连接字段。"
   ]
  },
  {
   "cell_type": "code",
   "execution_count": 78,
   "metadata": {},
   "outputs": [
    {
     "name": "stdout",
     "output_type": "stream",
     "text": [
      "GICS Sector\n",
      "Consumer Discretionary         1.860178e+09\n",
      "Consumer Staples               7.150872e+09\n",
      "Energy                         2.076513e+09\n",
      "Financials                     2.401300e+08\n",
      "Health Care                    1.688513e+11\n",
      "Industrials                    5.533400e+10\n",
      "Information Technology         3.158830e+11\n",
      "Materials                      2.061621e+10\n",
      "Real Estate                    1.162100e+08\n",
      "Telecommunications Services    0.000000e+00\n",
      "Utilities                      0.000000e+00\n",
      "Name: Research and Development, dtype: float64\n",
      "GICS Sector                  Ticker Symbol\n",
      "Consumer Discretionary       GRMN             1.187087e+09\n",
      "                             HAS              6.730910e+08\n",
      "                             AAP              0.000000e+00\n",
      "Consumer Staples             PG               5.804172e+09\n",
      "                             CLX              5.320000e+08\n",
      "                             CPB              4.910000e+08\n",
      "Energy                       BHI              2.019000e+09\n",
      "                             HP               5.751300e+07\n",
      "                             APA              0.000000e+00\n",
      "Financials                   USB              2.401300e+08\n",
      "                             AFL              0.000000e+00\n",
      "                             AIG              0.000000e+00\n",
      "Health Care                  PFE              2.276100e+10\n",
      "                             MRK              2.138700e+10\n",
      "                             AMGN             1.629000e+10\n",
      "Industrials                  BA               1.407600e+10\n",
      "                             UTX              9.433000e+09\n",
      "                             CAT              8.496000e+09\n",
      "Information Technology       INTC             4.701600e+10\n",
      "                             MSFT             4.582600e+10\n",
      "                             AAPL             2.862800e+10\n",
      "Materials                    DD               7.534000e+09\n",
      "                             MON              6.350000e+09\n",
      "                             PPG              1.888000e+09\n",
      "Real Estate                  WY               8.400000e+07\n",
      "                             VNO              3.221000e+07\n",
      "                             AIV              0.000000e+00\n",
      "Telecommunications Services  CTL              0.000000e+00\n",
      "                             FTR              0.000000e+00\n",
      "                             LVLT             0.000000e+00\n",
      "Utilities                    AEE              0.000000e+00\n",
      "                             AEP              0.000000e+00\n",
      "                             AWK              0.000000e+00\n",
      "Name: total, dtype: float64\n"
     ]
    },
    {
     "name": "stderr",
     "output_type": "stream",
     "text": [
      "C:\\ProgramData\\Anaconda3\\lib\\site-packages\\ipykernel_launcher.py:14: FutureWarning: using a dict on a Series for aggregation\n",
      "is deprecated and will be removed in a future version. Use                 named aggregation instead.\n",
      "\n",
      "    >>> grouper.agg(name_1=func_1, name_2=func_2)\n",
      "\n",
      "  \n"
     ]
    }
   ],
   "source": [
    "#Q3-2\n",
    "import pandas as pd\n",
    "f4=pd.read_csv(\"./securities.csv\")\n",
    "f4.rename(columns={'Ticker symbol':'Ticker Symbol'}, inplace = True)\n",
    "f5=pd.read_csv(\"./fundamentals.csv\")\n",
    "f6=pd.merge(f5,f4[['Ticker Symbol','GICS Sector']],on='Ticker Symbol')\n",
    "pd.to_datetime(f6[\"Period Ending\"])\n",
    "f7=f6[(f6[\"Period Ending\"]> \"2012-12-31\") & (f6[\"Period Ending\"]< \"2017-01-01\")]\n",
    "print(f7.groupby('GICS Sector')[\"Research and Development\"].sum())\n",
    "\n",
    "\n",
    "#Q3-3\n",
    "import heapq\n",
    "f8=f7.groupby(['GICS Sector','Ticker Symbol'])[\"Research and Development\"].agg({\"total\":sum})\n",
    "g =f8['total'].groupby('GICS Sector',group_keys=False)\n",
    "print(g.nlargest(3))"
   ]
  }
 ],
 "metadata": {
  "kernelspec": {
   "display_name": "Python 3",
   "language": "python",
   "name": "python3"
  },
  "language_info": {
   "codemirror_mode": {
    "name": "ipython",
    "version": 3
   },
   "file_extension": ".py",
   "mimetype": "text/x-python",
   "name": "python",
   "nbconvert_exporter": "python",
   "pygments_lexer": "ipython3",
   "version": "3.7.4"
  }
 },
 "nbformat": 4,
 "nbformat_minor": 2
}
