{
 "cells": [
  {
   "cell_type": "markdown",
   "metadata": {},
   "source": [
    "**编程实践部分**"
   ]
  },
  {
   "cell_type": "markdown",
   "metadata": {},
   "source": [
    "1. 数据集保存及读取  \n",
    "添加编号列，并将数据集写入到`machine_learning.csv`文件，使用pandas读取验证文件是否有效(无错即可)。  \n",
    "添加一条记录，`青绿 硬挺 浊响 稍糊 平坦 硬滑 0.666 0.111 好`  \n",
    "再使用普通文件读取将数据集读取出来，列名读取到`columns`，数据(带编号)读取到`datalist`  \n",
    "在所有数据中过滤出色泽='浅白'的数据  \n",
    "在所有数据中过滤出密度大于0.5的数据"
   ]
  },
  {
   "cell_type": "code",
   "execution_count": 20,
   "metadata": {},
   "outputs": [
    {
     "name": "stdout",
     "output_type": "stream",
     "text": [
      "   编号  色泽  根蒂  敲声  纹理  脐部  触感     密度    含糖率 好瓜\n",
      "0   0  青绿  蜷缩  浊响  清晰  凹陷  硬滑  0.697  0.460  是\n",
      "1   1  乌黑  蜷缩  沉闷  清晰  凹陷  硬滑  0.774  0.376  是\n",
      "2   2  乌黑  蜷缩  浊响  清晰  凹陷  硬滑  0.634  0.264  是\n",
      "3   3  青绿  蜷缩  沉闷  清晰  凹陷  硬滑  0.608  0.318  是\n",
      "4   4  浅白  蜷缩  浊响  清晰  凹陷  硬滑  0.556  0.215  是\n",
      "True\n",
      "True\n",
      "    编号  色泽  根蒂  敲声  纹理  脐部  触感     密度    含糖率 好瓜\n",
      "4    4  浅白  蜷缩  浊响  清晰  凹陷  硬滑  0.556  0.215  是\n",
      "10  10  浅白  硬挺  清脆  模糊  平坦  硬滑  0.245  0.057  否\n",
      "11  11  浅白  蜷缩  浊响  模糊  平坦  软粘  0.343  0.099  否\n",
      "13  13  浅白  稍蜷  沉闷  稍糊  凹陷  硬滑  0.657  0.198  否\n",
      "15  15  浅白  蜷缩  浊响  模糊  平坦  硬滑  0.593  0.042  否\n",
      "    编号  色泽  根蒂  敲声  纹理  脐部  触感     密度    含糖率 好瓜\n",
      "0    0  青绿  蜷缩  浊响  清晰  凹陷  硬滑  0.697  0.460  是\n",
      "1    1  乌黑  蜷缩  沉闷  清晰  凹陷  硬滑  0.774  0.376  是\n",
      "2    2  乌黑  蜷缩  浊响  清晰  凹陷  硬滑  0.634  0.264  是\n",
      "3    3  青绿  蜷缩  沉闷  清晰  凹陷  硬滑  0.608  0.318  是\n",
      "4    4  浅白  蜷缩  浊响  清晰  凹陷  硬滑  0.556  0.215  是\n",
      "8    8  乌黑  稍蜷  沉闷  稍糊  稍凹  硬滑  0.666  0.091  否\n",
      "12  12  青绿  稍蜷  浊响  稍糊  凹陷  硬滑  0.639  0.161  否\n",
      "13  13  浅白  稍蜷  沉闷  稍糊  凹陷  硬滑  0.657  0.198  否\n",
      "15  15  浅白  蜷缩  浊响  模糊  平坦  硬滑  0.593  0.042  否\n",
      "16  16  青绿  蜷缩  沉闷  稍糊  稍凹  硬滑  0.719  0.103  否\n",
      "17  17  青绿  硬挺  浊响  稍糊  平坦  硬滑  0.666  0.111  好\n"
     ]
    }
   ],
   "source": [
    "import pandas as pd\n",
    "\n",
    "dataset = \\\n",
    "\"\"\"色泽 根蒂 敲声 纹理 脐部 触感 密度 含糖率 好瓜\n",
    "青绿 蜷缩 浊响 清晰 凹陷 硬滑 0.697 0.460 是\n",
    "乌黑 蜷缩 沉闷 清晰 凹陷 硬滑 0.774 0.376 是\n",
    "乌黑 蜷缩 浊响 清晰 凹陷 硬滑 0.634 0.264 是\n",
    "青绿 蜷缩 沉闷 清晰 凹陷 硬滑 0.608 0.318 是\n",
    "浅白 蜷缩 浊响 清晰 凹陷 硬滑 0.556 0.215 是\n",
    "青绿 稍蜷 浊响 清晰 稍凹 软粘 0.403 0.237 是\n",
    "乌黑 稍蜷 浊响 稍糊 稍凹 软粘 0.481 0.149 是\n",
    "乌黑 稍蜷 浊响 清晰 稍凹 硬滑 0.437 0.211 是\n",
    "乌黑 稍蜷 沉闷 稍糊 稍凹 硬滑 0.666 0.091 否\n",
    "青绿 硬挺 清脆 清晰 平坦 软粘 0.243 0.267 否\n",
    "浅白 硬挺 清脆 模糊 平坦 硬滑 0.245 0.057 否\n",
    "浅白 蜷缩 浊响 模糊 平坦 软粘 0.343 0.099 否\n",
    "青绿 稍蜷 浊响 稍糊 凹陷 硬滑 0.639 0.161 否\n",
    "浅白 稍蜷 沉闷 稍糊 凹陷 硬滑 0.657 0.198 否\n",
    "乌黑 稍蜷 浊响 清晰 稍凹 软粘 0.360 0.370 否\n",
    "浅白 蜷缩 浊响 模糊 平坦 硬滑 0.593 0.042 否\n",
    "青绿 蜷缩 沉闷 稍糊 稍凹 硬滑 0.719 0.103 否\"\"\"\n",
    "\n",
    "list1=list((dataset.replace(\"\\n\",\" \")).split(\" \"))\n",
    "l=[]\n",
    "for i in range(1,len(list1)//9):   \n",
    "    b=[list1[k] for k in range(9*i,9*(i+1))]\n",
    "    l.append(b)\n",
    "kk=pd.DataFrame(l,columns=[list1[j] for j in range(9)])\n",
    "kk.insert(0,column=\"编号\",value=[x for x in range(kk.iloc[:,0].size)])\n",
    "#dataset(str)转DataFrame，添加编号列\n",
    "\n",
    "kk.loc[17]=list(\"17 青绿 硬挺 浊响 稍糊 平坦 硬滑 0.666 0.111 好\".split(\" \"))\n",
    "kk.to_csv('./machine_learning.csv',index=False)\n",
    "#添加一行记录，写入csv\n",
    "\n",
    "\n",
    "# vertify \n",
    "df = pd.read_csv('./machine_learning.csv')\n",
    "print(df.head())\n",
    "\n",
    "\n",
    "# read file\n",
    "# your code here\n",
    "with open(\"machine_learning.csv\",encoding='utf-8') as new:\n",
    "    newdata=new.read()\n",
    "newset=list(newdata.replace(\"\\n\",\",\").split(\",\"))\n",
    "columns=newset[:10]\n",
    "datalist=[]\n",
    "for i in range(1,len(newset)//10):   \n",
    "    b=[newset[k] for k in range(10*i+1,10*(i+1))]\n",
    "    datalist.append(b)\n",
    "#读取数，读取列名和数据\n",
    "\n",
    "\n",
    "# vertify\n",
    "print(columns==['编号', '色泽', '根蒂', '敲声', '纹理', '脐部', '触感', '密度', '含糖率', '好瓜'])\n",
    "print(datalist[-1]==['青绿', '硬挺', '浊响', '稍糊', '平坦', '硬滑', '0.666', '0.111', '好'])\n",
    "\n",
    "# your code here\n",
    "print(kk[kk[\"色泽\"]=='浅白'])\n",
    "print(kk[pd.to_numeric(kk[\"密度\"])>0.5])\n",
    "#数据筛选"
   ]
  },
  {
   "cell_type": "markdown",
   "metadata": {},
   "source": [
    "2.无"
   ]
  }
 ],
 "metadata": {
  "kernelspec": {
   "display_name": "Python 3",
   "language": "python",
   "name": "python3"
  },
  "language_info": {
   "codemirror_mode": {
    "name": "ipython",
    "version": 3
   },
   "file_extension": ".py",
   "mimetype": "text/x-python",
   "name": "python",
   "nbconvert_exporter": "python",
   "pygments_lexer": "ipython3",
   "version": "3.7.0"
  }
 },
 "nbformat": 4,
 "nbformat_minor": 4
}
